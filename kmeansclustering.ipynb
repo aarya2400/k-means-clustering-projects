{
 "cells": [
  {
   "cell_type": "code",
   "execution_count": 1,
   "id": "7c9675fc-e852-44c3-892f-a8691e6a434f",
   "metadata": {},
   "outputs": [],
   "source": [
    "import numpy as np"
   ]
  },
  {
   "cell_type": "code",
   "execution_count": 6,
   "id": "1d85b123-3de4-4fc9-b4d1-a13c49558617",
   "metadata": {},
   "outputs": [
    {
     "name": "stdout",
     "output_type": "stream",
     "text": [
      "Collecting pandas\n",
      "  Downloading pandas-2.3.0-cp311-cp311-win_amd64.whl.metadata (19 kB)\n",
      "Requirement already satisfied: numpy>=1.23.2 in c:\\users\\aarya jadhav\\anaconda3\\envs\\test_env\\lib\\site-packages (from pandas) (2.3.0)\n",
      "Requirement already satisfied: python-dateutil>=2.8.2 in c:\\users\\aarya jadhav\\anaconda3\\envs\\test_env\\lib\\site-packages (from pandas) (2.9.0.post0)\n",
      "Collecting pytz>=2020.1 (from pandas)\n",
      "  Downloading pytz-2025.2-py2.py3-none-any.whl.metadata (22 kB)\n",
      "Collecting tzdata>=2022.7 (from pandas)\n",
      "  Downloading tzdata-2025.2-py2.py3-none-any.whl.metadata (1.4 kB)\n",
      "Requirement already satisfied: six>=1.5 in c:\\users\\aarya jadhav\\anaconda3\\envs\\test_env\\lib\\site-packages (from python-dateutil>=2.8.2->pandas) (1.17.0)\n",
      "Downloading pandas-2.3.0-cp311-cp311-win_amd64.whl (11.1 MB)\n",
      "   ---------------------------------------- 0.0/11.1 MB ? eta -:--:--\n",
      "   --- ------------------------------------ 1.0/11.1 MB 10.0 MB/s eta 0:00:02\n",
      "   ------------ --------------------------- 3.4/11.1 MB 14.4 MB/s eta 0:00:01\n",
      "   ------------------- -------------------- 5.5/11.1 MB 10.5 MB/s eta 0:00:01\n",
      "   ----------------------- ---------------- 6.6/11.1 MB 8.9 MB/s eta 0:00:01\n",
      "   ------------------------- -------------- 7.1/11.1 MB 7.8 MB/s eta 0:00:01\n",
      "   -------------------------- ------------- 7.3/11.1 MB 6.9 MB/s eta 0:00:01\n",
      "   ---------------------------- ----------- 7.9/11.1 MB 5.9 MB/s eta 0:00:01\n",
      "   ------------------------------- -------- 8.7/11.1 MB 5.5 MB/s eta 0:00:01\n",
      "   ---------------------------------- ----- 9.7/11.1 MB 5.3 MB/s eta 0:00:01\n",
      "   ------------------------------------- -- 10.5/11.1 MB 5.2 MB/s eta 0:00:01\n",
      "   ---------------------------------------- 11.1/11.1 MB 5.1 MB/s eta 0:00:00\n",
      "Downloading pytz-2025.2-py2.py3-none-any.whl (509 kB)\n",
      "Downloading tzdata-2025.2-py2.py3-none-any.whl (347 kB)\n",
      "Installing collected packages: pytz, tzdata, pandas\n",
      "\n",
      "   ---------------------------------------- 0/3 [pytz]\n",
      "   ---------------------------------------- 0/3 [pytz]\n",
      "   ---------------------------------------- 0/3 [pytz]\n",
      "   ------------- -------------------------- 1/3 [tzdata]\n",
      "   ------------- -------------------------- 1/3 [tzdata]\n",
      "   ------------- -------------------------- 1/3 [tzdata]\n",
      "   ------------- -------------------------- 1/3 [tzdata]\n",
      "   -------------------------- ------------- 2/3 [pandas]\n",
      "   -------------------------- ------------- 2/3 [pandas]\n",
      "   -------------------------- ------------- 2/3 [pandas]\n",
      "   -------------------------- ------------- 2/3 [pandas]\n",
      "   -------------------------- ------------- 2/3 [pandas]\n",
      "   -------------------------- ------------- 2/3 [pandas]\n",
      "   -------------------------- ------------- 2/3 [pandas]\n",
      "   -------------------------- ------------- 2/3 [pandas]\n",
      "   -------------------------- ------------- 2/3 [pandas]\n",
      "   -------------------------- ------------- 2/3 [pandas]\n",
      "   -------------------------- ------------- 2/3 [pandas]\n",
      "   -------------------------- ------------- 2/3 [pandas]\n",
      "   -------------------------- ------------- 2/3 [pandas]\n",
      "   -------------------------- ------------- 2/3 [pandas]\n",
      "   -------------------------- ------------- 2/3 [pandas]\n",
      "   -------------------------- ------------- 2/3 [pandas]\n",
      "   -------------------------- ------------- 2/3 [pandas]\n",
      "   -------------------------- ------------- 2/3 [pandas]\n",
      "   -------------------------- ------------- 2/3 [pandas]\n",
      "   -------------------------- ------------- 2/3 [pandas]\n",
      "   -------------------------- ------------- 2/3 [pandas]\n",
      "   -------------------------- ------------- 2/3 [pandas]\n",
      "   -------------------------- ------------- 2/3 [pandas]\n",
      "   -------------------------- ------------- 2/3 [pandas]\n",
      "   -------------------------- ------------- 2/3 [pandas]\n",
      "   -------------------------- ------------- 2/3 [pandas]\n",
      "   -------------------------- ------------- 2/3 [pandas]\n",
      "   -------------------------- ------------- 2/3 [pandas]\n",
      "   -------------------------- ------------- 2/3 [pandas]\n",
      "   -------------------------- ------------- 2/3 [pandas]\n",
      "   -------------------------- ------------- 2/3 [pandas]\n",
      "   -------------------------- ------------- 2/3 [pandas]\n",
      "   -------------------------- ------------- 2/3 [pandas]\n",
      "   -------------------------- ------------- 2/3 [pandas]\n",
      "   -------------------------- ------------- 2/3 [pandas]\n",
      "   -------------------------- ------------- 2/3 [pandas]\n",
      "   -------------------------- ------------- 2/3 [pandas]\n",
      "   -------------------------- ------------- 2/3 [pandas]\n",
      "   -------------------------- ------------- 2/3 [pandas]\n",
      "   -------------------------- ------------- 2/3 [pandas]\n",
      "   -------------------------- ------------- 2/3 [pandas]\n",
      "   -------------------------- ------------- 2/3 [pandas]\n",
      "   -------------------------- ------------- 2/3 [pandas]\n",
      "   -------------------------- ------------- 2/3 [pandas]\n",
      "   -------------------------- ------------- 2/3 [pandas]\n",
      "   -------------------------- ------------- 2/3 [pandas]\n",
      "   -------------------------- ------------- 2/3 [pandas]\n",
      "   -------------------------- ------------- 2/3 [pandas]\n",
      "   -------------------------- ------------- 2/3 [pandas]\n",
      "   -------------------------- ------------- 2/3 [pandas]\n",
      "   -------------------------- ------------- 2/3 [pandas]\n",
      "   -------------------------- ------------- 2/3 [pandas]\n",
      "   -------------------------- ------------- 2/3 [pandas]\n",
      "   -------------------------- ------------- 2/3 [pandas]\n",
      "   -------------------------- ------------- 2/3 [pandas]\n",
      "   -------------------------- ------------- 2/3 [pandas]\n",
      "   -------------------------- ------------- 2/3 [pandas]\n",
      "   -------------------------- ------------- 2/3 [pandas]\n",
      "   -------------------------- ------------- 2/3 [pandas]\n",
      "   -------------------------- ------------- 2/3 [pandas]\n",
      "   -------------------------- ------------- 2/3 [pandas]\n",
      "   -------------------------- ------------- 2/3 [pandas]\n",
      "   -------------------------- ------------- 2/3 [pandas]\n",
      "   ---------------------------------------- 3/3 [pandas]\n",
      "\n",
      "Successfully installed pandas-2.3.0 pytz-2025.2 tzdata-2025.2\n"
     ]
    }
   ],
   "source": [
    "!pip install pandas\n"
   ]
  },
  {
   "cell_type": "code",
   "execution_count": 7,
   "id": "54d62096-4b34-490a-a1fe-f82d25b4c2de",
   "metadata": {},
   "outputs": [
    {
     "name": "stdout",
     "output_type": "stream",
     "text": [
      "Requirement already satisfied: matplotlib in c:\\users\\aarya jadhav\\anaconda3\\envs\\test_env\\lib\\site-packages (3.10.3)\n",
      "Requirement already satisfied: contourpy>=1.0.1 in c:\\users\\aarya jadhav\\anaconda3\\envs\\test_env\\lib\\site-packages (from matplotlib) (1.3.2)\n",
      "Requirement already satisfied: cycler>=0.10 in c:\\users\\aarya jadhav\\anaconda3\\envs\\test_env\\lib\\site-packages (from matplotlib) (0.12.1)\n",
      "Requirement already satisfied: fonttools>=4.22.0 in c:\\users\\aarya jadhav\\anaconda3\\envs\\test_env\\lib\\site-packages (from matplotlib) (4.58.4)\n",
      "Requirement already satisfied: kiwisolver>=1.3.1 in c:\\users\\aarya jadhav\\anaconda3\\envs\\test_env\\lib\\site-packages (from matplotlib) (1.4.8)\n",
      "Requirement already satisfied: numpy>=1.23 in c:\\users\\aarya jadhav\\anaconda3\\envs\\test_env\\lib\\site-packages (from matplotlib) (2.3.0)\n",
      "Requirement already satisfied: packaging>=20.0 in c:\\users\\aarya jadhav\\anaconda3\\envs\\test_env\\lib\\site-packages (from matplotlib) (25.0)\n",
      "Requirement already satisfied: pillow>=8 in c:\\users\\aarya jadhav\\anaconda3\\envs\\test_env\\lib\\site-packages (from matplotlib) (11.2.1)\n",
      "Requirement already satisfied: pyparsing>=2.3.1 in c:\\users\\aarya jadhav\\anaconda3\\envs\\test_env\\lib\\site-packages (from matplotlib) (3.2.3)\n",
      "Requirement already satisfied: python-dateutil>=2.7 in c:\\users\\aarya jadhav\\anaconda3\\envs\\test_env\\lib\\site-packages (from matplotlib) (2.9.0.post0)\n",
      "Requirement already satisfied: six>=1.5 in c:\\users\\aarya jadhav\\anaconda3\\envs\\test_env\\lib\\site-packages (from python-dateutil>=2.7->matplotlib) (1.17.0)\n"
     ]
    }
   ],
   "source": [
    "!pip install matplotlib"
   ]
  },
  {
   "cell_type": "code",
   "execution_count": 13,
   "id": "e473ac85-528b-4cc7-be51-d95de3041a72",
   "metadata": {},
   "outputs": [
    {
     "name": "stdout",
     "output_type": "stream",
     "text": [
      "Collecting scikit-learn\n",
      "  Downloading scikit_learn-1.7.0-cp311-cp311-win_amd64.whl.metadata (14 kB)\n",
      "Requirement already satisfied: numpy>=1.22.0 in c:\\users\\aarya jadhav\\anaconda3\\envs\\test_env\\lib\\site-packages (from scikit-learn) (2.3.0)\n",
      "Collecting scipy>=1.8.0 (from scikit-learn)\n",
      "  Downloading scipy-1.15.3-cp311-cp311-win_amd64.whl.metadata (60 kB)\n",
      "Collecting joblib>=1.2.0 (from scikit-learn)\n",
      "  Downloading joblib-1.5.1-py3-none-any.whl.metadata (5.6 kB)\n",
      "Collecting threadpoolctl>=3.1.0 (from scikit-learn)\n",
      "  Downloading threadpoolctl-3.6.0-py3-none-any.whl.metadata (13 kB)\n",
      "Downloading scikit_learn-1.7.0-cp311-cp311-win_amd64.whl (10.7 MB)\n",
      "   ---------------------------------------- 0.0/10.7 MB ? eta -:--:--\n",
      "   ----- ---------------------------------- 1.6/10.7 MB 10.5 MB/s eta 0:00:01\n",
      "   --------------- ------------------------ 4.2/10.7 MB 10.1 MB/s eta 0:00:01\n",
      "   ------------------- -------------------- 5.2/10.7 MB 8.4 MB/s eta 0:00:01\n",
      "   ------------------- -------------------- 5.2/10.7 MB 8.4 MB/s eta 0:00:01\n",
      "   ------------------- -------------------- 5.2/10.7 MB 8.4 MB/s eta 0:00:01\n",
      "   --------------------- ------------------ 5.8/10.7 MB 4.7 MB/s eta 0:00:02\n",
      "   ----------------------- ---------------- 6.3/10.7 MB 4.3 MB/s eta 0:00:02\n",
      "   ----------------------- ---------------- 6.3/10.7 MB 4.3 MB/s eta 0:00:02\n",
      "   ------------------------ --------------- 6.6/10.7 MB 3.4 MB/s eta 0:00:02\n",
      "   ------------------------- -------------- 6.8/10.7 MB 3.3 MB/s eta 0:00:02\n",
      "   ------------------------- -------------- 6.8/10.7 MB 3.3 MB/s eta 0:00:02\n",
      "   -------------------------- ------------- 7.1/10.7 MB 2.7 MB/s eta 0:00:02\n",
      "   --------------------------- ------------ 7.3/10.7 MB 2.7 MB/s eta 0:00:02\n",
      "   ------------------------------ --------- 8.1/10.7 MB 2.7 MB/s eta 0:00:01\n",
      "   -------------------------------- ------- 8.7/10.7 MB 2.7 MB/s eta 0:00:01\n",
      "   ----------------------------------- ---- 9.4/10.7 MB 2.7 MB/s eta 0:00:01\n",
      "   ---------------------------------------  10.5/10.7 MB 2.8 MB/s eta 0:00:01\n",
      "   ---------------------------------------- 10.7/10.7 MB 2.8 MB/s eta 0:00:00\n",
      "Downloading joblib-1.5.1-py3-none-any.whl (307 kB)\n",
      "Downloading scipy-1.15.3-cp311-cp311-win_amd64.whl (41.2 MB)\n",
      "   ---------------------------------------- 0.0/41.2 MB ? eta -:--:--\n",
      "   - -------------------------------------- 1.0/41.2 MB 5.6 MB/s eta 0:00:08\n",
      "   -- ------------------------------------- 2.6/41.2 MB 6.6 MB/s eta 0:00:06\n",
      "   ---- ----------------------------------- 4.5/41.2 MB 7.3 MB/s eta 0:00:06\n",
      "   ----- ---------------------------------- 5.8/41.2 MB 7.0 MB/s eta 0:00:06\n",
      "   ------ --------------------------------- 6.6/41.2 MB 6.4 MB/s eta 0:00:06\n",
      "   ------ --------------------------------- 7.1/41.2 MB 5.8 MB/s eta 0:00:06\n",
      "   -------- ------------------------------- 8.4/41.2 MB 5.6 MB/s eta 0:00:06\n",
      "   --------- ------------------------------ 9.4/41.2 MB 5.6 MB/s eta 0:00:06\n",
      "   ---------- ----------------------------- 11.0/41.2 MB 5.8 MB/s eta 0:00:06\n",
      "   ----------- ---------------------------- 11.8/41.2 MB 5.6 MB/s eta 0:00:06\n",
      "   ----------- ---------------------------- 12.3/41.2 MB 5.3 MB/s eta 0:00:06\n",
      "   ------------ --------------------------- 13.1/41.2 MB 5.1 MB/s eta 0:00:06\n",
      "   ------------- -------------------------- 13.9/41.2 MB 5.0 MB/s eta 0:00:06\n",
      "   -------------- ------------------------- 14.7/41.2 MB 5.0 MB/s eta 0:00:06\n",
      "   --------------- ------------------------ 16.0/41.2 MB 5.0 MB/s eta 0:00:06\n",
      "   ---------------- ----------------------- 17.3/41.2 MB 5.1 MB/s eta 0:00:05\n",
      "   ----------------- ---------------------- 18.4/41.2 MB 5.1 MB/s eta 0:00:05\n",
      "   ------------------- -------------------- 19.9/41.2 MB 5.2 MB/s eta 0:00:05\n",
      "   -------------------- ------------------- 21.5/41.2 MB 5.3 MB/s eta 0:00:04\n",
      "   ---------------------- ----------------- 22.8/41.2 MB 5.3 MB/s eta 0:00:04\n",
      "   ---------------------- ----------------- 23.3/41.2 MB 5.2 MB/s eta 0:00:04\n",
      "   ----------------------- ---------------- 24.1/41.2 MB 5.2 MB/s eta 0:00:04\n",
      "   ------------------------ --------------- 25.2/41.2 MB 5.1 MB/s eta 0:00:04\n",
      "   ------------------------- -------------- 26.5/41.2 MB 5.2 MB/s eta 0:00:03\n",
      "   -------------------------- ------------- 27.8/41.2 MB 5.2 MB/s eta 0:00:03\n",
      "   --------------------------- ------------ 28.8/41.2 MB 5.2 MB/s eta 0:00:03\n",
      "   ---------------------------- ----------- 29.1/41.2 MB 5.1 MB/s eta 0:00:03\n",
      "   ---------------------------- ----------- 29.9/41.2 MB 5.0 MB/s eta 0:00:03\n",
      "   ----------------------------- ---------- 30.9/41.2 MB 5.0 MB/s eta 0:00:03\n",
      "   ------------------------------- -------- 32.0/41.2 MB 5.0 MB/s eta 0:00:02\n",
      "   ------------------------------- -------- 32.8/41.2 MB 5.0 MB/s eta 0:00:02\n",
      "   --------------------------------- ------ 34.1/41.2 MB 5.0 MB/s eta 0:00:02\n",
      "   ---------------------------------- ----- 35.4/41.2 MB 5.0 MB/s eta 0:00:02\n",
      "   ----------------------------------- ---- 37.0/41.2 MB 5.1 MB/s eta 0:00:01\n",
      "   ------------------------------------- -- 38.3/41.2 MB 5.1 MB/s eta 0:00:01\n",
      "   ------------------------------------- -- 39.1/41.2 MB 5.1 MB/s eta 0:00:01\n",
      "   -------------------------------------- - 40.1/41.2 MB 5.1 MB/s eta 0:00:01\n",
      "   ---------------------------------------  41.2/41.2 MB 5.1 MB/s eta 0:00:01\n",
      "   ---------------------------------------  41.2/41.2 MB 5.1 MB/s eta 0:00:01\n",
      "   ---------------------------------------  41.2/41.2 MB 5.1 MB/s eta 0:00:01\n",
      "   ---------------------------------------- 41.2/41.2 MB 4.8 MB/s eta 0:00:00\n",
      "Downloading threadpoolctl-3.6.0-py3-none-any.whl (18 kB)\n",
      "Installing collected packages: threadpoolctl, scipy, joblib, scikit-learn\n",
      "\n",
      "   ---------- ----------------------------- 1/4 [scipy]\n",
      "   ---------- ----------------------------- 1/4 [scipy]\n",
      "   ---------- ----------------------------- 1/4 [scipy]\n",
      "   ---------- ----------------------------- 1/4 [scipy]\n",
      "   ---------- ----------------------------- 1/4 [scipy]\n",
      "   ---------- ----------------------------- 1/4 [scipy]\n",
      "   ---------- ----------------------------- 1/4 [scipy]\n",
      "   ---------- ----------------------------- 1/4 [scipy]\n",
      "   ---------- ----------------------------- 1/4 [scipy]\n",
      "   ---------- ----------------------------- 1/4 [scipy]\n",
      "   ---------- ----------------------------- 1/4 [scipy]\n",
      "   ---------- ----------------------------- 1/4 [scipy]\n",
      "   ---------- ----------------------------- 1/4 [scipy]\n",
      "   ---------- ----------------------------- 1/4 [scipy]\n",
      "   ---------- ----------------------------- 1/4 [scipy]\n",
      "   ---------- ----------------------------- 1/4 [scipy]\n",
      "   ---------- ----------------------------- 1/4 [scipy]\n",
      "   ---------- ----------------------------- 1/4 [scipy]\n",
      "   ---------- ----------------------------- 1/4 [scipy]\n",
      "   ---------- ----------------------------- 1/4 [scipy]\n",
      "   ---------- ----------------------------- 1/4 [scipy]\n",
      "   ---------- ----------------------------- 1/4 [scipy]\n",
      "   ---------- ----------------------------- 1/4 [scipy]\n",
      "   ---------- ----------------------------- 1/4 [scipy]\n",
      "   ---------- ----------------------------- 1/4 [scipy]\n",
      "   ---------- ----------------------------- 1/4 [scipy]\n",
      "   ---------- ----------------------------- 1/4 [scipy]\n",
      "   ---------- ----------------------------- 1/4 [scipy]\n",
      "   ---------- ----------------------------- 1/4 [scipy]\n",
      "   ---------- ----------------------------- 1/4 [scipy]\n",
      "   ---------- ----------------------------- 1/4 [scipy]\n",
      "   ---------- ----------------------------- 1/4 [scipy]\n",
      "   ---------- ----------------------------- 1/4 [scipy]\n",
      "   ---------- ----------------------------- 1/4 [scipy]\n",
      "   ---------- ----------------------------- 1/4 [scipy]\n",
      "   ---------- ----------------------------- 1/4 [scipy]\n",
      "   ---------- ----------------------------- 1/4 [scipy]\n",
      "   ---------- ----------------------------- 1/4 [scipy]\n",
      "   ---------- ----------------------------- 1/4 [scipy]\n",
      "   ---------- ----------------------------- 1/4 [scipy]\n",
      "   ---------- ----------------------------- 1/4 [scipy]\n",
      "   ---------- ----------------------------- 1/4 [scipy]\n",
      "   ---------- ----------------------------- 1/4 [scipy]\n",
      "   ---------- ----------------------------- 1/4 [scipy]\n",
      "   ---------- ----------------------------- 1/4 [scipy]\n",
      "   ---------- ----------------------------- 1/4 [scipy]\n",
      "   ---------- ----------------------------- 1/4 [scipy]\n",
      "   ---------- ----------------------------- 1/4 [scipy]\n",
      "   ---------- ----------------------------- 1/4 [scipy]\n",
      "   ---------- ----------------------------- 1/4 [scipy]\n",
      "   ---------- ----------------------------- 1/4 [scipy]\n",
      "   -------------------- ------------------- 2/4 [joblib]\n",
      "   -------------------- ------------------- 2/4 [joblib]\n",
      "   -------------------- ------------------- 2/4 [joblib]\n",
      "   ------------------------------ --------- 3/4 [scikit-learn]\n",
      "   ------------------------------ --------- 3/4 [scikit-learn]\n",
      "   ------------------------------ --------- 3/4 [scikit-learn]\n",
      "   ------------------------------ --------- 3/4 [scikit-learn]\n",
      "   ------------------------------ --------- 3/4 [scikit-learn]\n",
      "   ------------------------------ --------- 3/4 [scikit-learn]\n",
      "   ------------------------------ --------- 3/4 [scikit-learn]\n",
      "   ------------------------------ --------- 3/4 [scikit-learn]\n",
      "   ------------------------------ --------- 3/4 [scikit-learn]\n",
      "   ------------------------------ --------- 3/4 [scikit-learn]\n",
      "   ------------------------------ --------- 3/4 [scikit-learn]\n",
      "   ------------------------------ --------- 3/4 [scikit-learn]\n",
      "   ------------------------------ --------- 3/4 [scikit-learn]\n",
      "   ------------------------------ --------- 3/4 [scikit-learn]\n",
      "   ------------------------------ --------- 3/4 [scikit-learn]\n",
      "   ------------------------------ --------- 3/4 [scikit-learn]\n",
      "   ------------------------------ --------- 3/4 [scikit-learn]\n",
      "   ------------------------------ --------- 3/4 [scikit-learn]\n",
      "   ------------------------------ --------- 3/4 [scikit-learn]\n",
      "   ------------------------------ --------- 3/4 [scikit-learn]\n",
      "   ------------------------------ --------- 3/4 [scikit-learn]\n",
      "   ------------------------------ --------- 3/4 [scikit-learn]\n",
      "   ------------------------------ --------- 3/4 [scikit-learn]\n",
      "   ------------------------------ --------- 3/4 [scikit-learn]\n",
      "   ------------------------------ --------- 3/4 [scikit-learn]\n",
      "   ------------------------------ --------- 3/4 [scikit-learn]\n",
      "   ------------------------------ --------- 3/4 [scikit-learn]\n",
      "   ------------------------------ --------- 3/4 [scikit-learn]\n",
      "   ------------------------------ --------- 3/4 [scikit-learn]\n",
      "   ------------------------------ --------- 3/4 [scikit-learn]\n",
      "   ---------------------------------------- 4/4 [scikit-learn]\n",
      "\n",
      "Successfully installed joblib-1.5.1 scikit-learn-1.7.0 scipy-1.15.3 threadpoolctl-3.6.0\n"
     ]
    }
   ],
   "source": [
    "!pip install scikit-learn\n"
   ]
  },
  {
   "cell_type": "code",
   "execution_count": 16,
   "id": "409bbda7-4e4a-447a-89b9-e1f6214873bf",
   "metadata": {},
   "outputs": [],
   "source": [
    "import pandas as pd\n",
    "import matplotlib.pyplot as plt\n",
    "from sklearn.datasets import make_blobs"
   ]
  },
  {
   "cell_type": "code",
   "execution_count": 19,
   "id": "ecfa7876-3266-47a4-9f08-7e558ea075d0",
   "metadata": {},
   "outputs": [],
   "source": [
    "x, y = make_blobs(n_samples=1000, n_features=2, centers=5, random_state=10)"
   ]
  },
  {
   "cell_type": "code",
   "execution_count": 20,
   "id": "7e69c581-2241-4be9-80d8-d6808e078013",
   "metadata": {},
   "outputs": [
    {
     "data": {
      "image/png": "[encoded data removed]",
      "text/plain": [
       "<Figure size 640x480 with 1 Axes>"
      ]
     },
     "metadata": {},
     "output_type": "display_data"
    }
   ],
   "source": [
    "plt.scatter(x[:, 0],x[:, 1])\n",
    "plt.show()"
   ]
  },
  {
   "cell_type": "code",
   "execution_count": 21,
   "id": "47912332-46c1-4456-a572-8e2c39f50a06",
   "metadata": {},
   "outputs": [],
   "source": [
    "#our goal is to make clusters out of this data"
   ]
  },
  {
   "cell_type": "code",
   "execution_count": 26,
   "id": "3d304edb-e25c-47db-8b91-9fd4f3fdae21",
   "metadata": {},
   "outputs": [],
   "source": [
    "k  =5\n",
    "colors = [\"green\", \"blue\",\"red\", \"yellow\", \"gray\"]\n",
    "clusters = {}\n",
    "for each_cluster in range(k):\n",
    "    #step1 to initialize cluster centers randomly\n",
    "    center = 10*(2* np.random.random((x.shape[1],))-1)\n",
    "    points = []\n",
    "\n",
    "    cluster = {\n",
    "    'center' : center,\n",
    "    'points' : points,\n",
    "    'color': colors[each_cluster]\n",
    "    }\n",
    "\n",
    "    clusters[each_cluster] = cluster\n",
    "    "
   ]
  },
  {
   "cell_type": "code",
   "execution_count": 27,
   "id": "9d156720-2ead-46d1-b93b-5deb2ae70a3e",
   "metadata": {},
   "outputs": [
    {
     "data": {
      "text/plain": [
       "{0: {'center': array([ 5.77408784, -9.94766494]),\n",
       "  'points': [],\n",
       "  'color': 'green'},\n",
       " 1: {'center': array([-4.15532726, -8.54812184]),\n",
       "  'points': [],\n",
       "  'color': 'blue'},\n",
       " 2: {'center': array([5.84932251, 0.16366729]), 'points': [], 'color': 'red'},\n",
       " 3: {'center': array([-5.04083789,  1.4276684 ]),\n",
       "  'points': [],\n",
       "  'color': 'yellow'},\n",
       " 4: {'center': array([-6.55757596, -9.12716391]),\n",
       "  'points': [],\n",
       "  'color': 'gray'}}"
      ]
     },
     "execution_count": 27,
     "metadata": {},
     "output_type": "execute_result"
    }
   ],
   "source": [
    "clusters"
   ]
  },
  {
   "cell_type": "code",
   "execution_count": 28,
   "id": "b2a9e63e-8217-4c36-a010-36b0ed5b9c0a",
   "metadata": {},
   "outputs": [],
   "source": [
    "#step2 distance and assigning points to clusters"
   ]
  },
  {
   "cell_type": "code",
   "execution_count": 30,
   "id": "d186b91a-b59b-488c-82fe-5c0bef5fe057",
   "metadata": {},
   "outputs": [],
   "source": [
    "def distance(v1, v2):\n",
    "    return np.sqrt(np.sum((v1-v2)**2))"
   ]
  },
  {
   "cell_type": "code",
   "execution_count": 35,
   "id": "995121ca-94ee-40e2-83eb-89ed257ca211",
   "metadata": {},
   "outputs": [],
   "source": [
    "# assigning every data point to one of the cluster\n",
    "#Expectation E step below\n"
   ]
  },
  {
   "cell_type": "code",
   "execution_count": 73,
   "id": "83d28a89-0391-4e70-83f9-736fc373649b",
   "metadata": {},
   "outputs": [],
   "source": [
    "def assignPointsToClusters(clusters):\n",
    "    \n",
    "    for every_data_point in range(x.shape[0]):\n",
    "        dist = []\n",
    "        current_x = x[every_data_point]\n",
    "        for kx in range(k):\n",
    "\n",
    "            d  = distance( current_x, clusters[kx]['center'])\n",
    "            dist.append(d)\n",
    "\n",
    "        current_cluster = np.argmin(dist)\n",
    "        clusters[current_cluster]['points'].append(x[every_data_point])"
   ]
  },
  {
   "cell_type": "code",
   "execution_count": 74,
   "id": "66c7c7b4-5b3c-465b-aa70-5fb99ad00b29",
   "metadata": {},
   "outputs": [],
   "source": [
    "# maximaixing step\n",
    "#STEP 3\n",
    "#update cluster center by taking mean"
   ]
  },
  {
   "cell_type": "code",
   "execution_count": 75,
   "id": "aa865fe1-1318-42d1-a6df-695c4ed53afc",
   "metadata": {},
   "outputs": [],
   "source": [
    "def updateClusters(clusters):\n",
    "    for kx in range(k):\n",
    "        pts = np.array(clusters[kx]['points'])\n",
    "        if pts.shape[0]>0:\n",
    "\n",
    "            #we will find out mean\n",
    "            new_u = pts.mean(axis = 0)\n",
    "            clusters[kx]['center'] = new_u\n",
    "            clusters[kx]['points'] = []"
   ]
  },
  {
   "cell_type": "code",
   "execution_count": 88,
   "id": "31ed828e-0631-4b18-940c-3b30772b7c08",
   "metadata": {},
   "outputs": [],
   "source": [
    "def plotClusters(clusters):\n",
    "    for kx in  range(k):\n",
    "        pts = np.array(clusters[kx]['points'])\n",
    "        if pts.shape[0] > 0:\n",
    "            plt.scatter(pts[:,0], pts[:, 1], color=clusters[kx]['color'])\n",
    "\n",
    "        plt.scatter(clusters[kx]['center'][0], clusters[kx]['center'][1], color='black', marker='*')"
   ]
  },
  {
   "cell_type": "code",
   "execution_count": 99,
   "id": "dc5fc181-39e8-434a-9d7d-2bde61e4c6e2",
   "metadata": {},
   "outputs": [
    {
     "data": {
      "image/png": "[encoded data removed]",
      "text/plain": [
       "<Figure size 640x480 with 1 Axes>"
      ]
     },
     "metadata": {},
     "output_type": "display_data"
    }
   ],
   "source": [
    "assignPointsToClusters(clusters)\n",
    "plotClusters(clusters)\n",
    "updateClusters(clusters)"
   ]
  },
  {
   "cell_type": "code",
   "execution_count": null,
   "id": "d5121d8a-3e1e-4b2c-a20b-b32a8650dfe9",
   "metadata": {},
   "outputs": [],
   "source": []
  },
  {
   "cell_type": "code",
   "execution_count": null,
   "id": "56ce6147-7da8-400e-8d9d-80f6443f1e1f",
   "metadata": {},
   "outputs": [],
   "source": []
  },
  {
   "cell_type": "code",
   "execution_count": null,
   "id": "813b1944-c0ca-48b5-8f0c-7294501168b0",
   "metadata": {},
   "outputs": [],
   "source": []
  },
  {
   "cell_type": "code",
   "execution_count": null,
   "id": "b0500022-20d6-44ee-ab7e-7fd51a70a157",
   "metadata": {},
   "outputs": [],
   "source": []
  }
 ],
 "metadata": {
  "kernelspec": {
   "display_name": "Python 3 (ipykernel)",
   "language": "python",
   "name": "python3"
  },
  "language_info": {
   "codemirror_mode": {
    "name": "ipython",
    "version": 3
   },
   "file_extension": ".py",
   "mimetype": "text/x-python",
   "name": "python",
   "nbconvert_exporter": "python",
   "pygments_lexer": "ipython3",
   "version": "3.11.13"
  }
 },
 "nbformat": 4,
 "nbformat_minor": 5
}
